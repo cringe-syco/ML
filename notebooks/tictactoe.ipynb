{
 "cells": [
  {
   "cell_type": "code",
   "execution_count": 1,
   "id": "de462b14",
   "metadata": {},
   "outputs": [],
   "source": [
    "import numpy as np"
   ]
  },
  {
   "cell_type": "code",
   "execution_count": null,
   "id": "118ac710",
   "metadata": {},
   "outputs": [],
   "source": [
    "# Diagonal Sum\n",
    "# Row Sum\n",
    "# check for index placed and calculate the sum\n",
    "\n",
    "# # ---------------------\n",
    "# # | 0,0  | 0,1  | 0,2 |\n",
    "# # ---------------------\n",
    "# # | 1,0  | 1,1  | 1,2 |\n",
    "# # ---------------------\n",
    "# # | 2,0  | 2,1  | 2,2 |\n",
    "# # ---------------------\n",
    "\n",
    "# Diagonals\n",
    "# # [0 , 0] [1, 1] [2, 2]  -- d1\n",
    "# # [0 , 2] [1, 1] [2, 0]  -- d2\n",
    "\n",
    "# d1 if x == y\n",
    "# d2 if x + y == 2\n",
    "\n"
   ]
  },
  {
   "cell_type": "code",
   "execution_count": 2,
   "id": "1d71720e",
   "metadata": {},
   "outputs": [],
   "source": [
    "def diagonal_sum(arr, d1=True):\n",
    "    sum = 0\n",
    "    if d1:\n",
    "        # Calculate the sum of the first diagonal (top-left to bottom-right)\n",
    "        for i in range(3):\n",
    "            sum += arr[i][i]\n",
    "    else:\n",
    "        # Calculate the sum of the second diagonal (top-right to bottom-left)\n",
    "        for i in range(3):\n",
    "            sum += arr[i][2 - i]\n",
    "    return sum"
   ]
  },
  {
   "cell_type": "code",
   "execution_count": 3,
   "id": "fc0cc71b",
   "metadata": {},
   "outputs": [],
   "source": [
    "\n",
    "def rowcol_sum(arr, i, j):\n",
    "    \"\"\" Check the sum of the row and column at position (i, j) in the Tic Tac Toe board\"\"\"\n",
    "    # Sum of the row\n",
    "    row = arr[i].sum()\n",
    "\n",
    "    # Sum of the column\n",
    "    col = arr[:, j].sum() \n",
    "\n",
    "    return row, col"
   ]
  },
  {
   "cell_type": "code",
   "execution_count": 4,
   "id": "b1e494ac",
   "metadata": {},
   "outputs": [],
   "source": [
    "def compute_sums(arr, x, y):\n",
    "    \"\"\" Compute the sums of the row, column, and diagonals based on the position (x, y) in the Tic Tac Toe board.\"\"\"\n",
    "    row, col = rowcol_sum(arr, x, y)\n",
    "    dia = 0 \n",
    "    if x == y:\n",
    "        dia = diagonal_sum(arr, d1=True)\n",
    "    if x + y == 2 and abs(dia) != 3:\n",
    "            dia = diagonal_sum(arr, d1=False)\n",
    "    return row, col, dia"
   ]
  },
  {
   "cell_type": "code",
   "execution_count": 5,
   "id": "54c983f3",
   "metadata": {},
   "outputs": [],
   "source": [
    "\n",
    "def check_winner(row, col, dia):\n",
    "    if row == 3 or col == 3 or dia == 3:\n",
    "        winner = \"X wins\"\n",
    "    elif row == -3 or col == -3 or dia == -3:\n",
    "        winner = \"O wins\"\n",
    "    else:\n",
    "        winner = None\n",
    "    return winner"
   ]
  },
  {
   "cell_type": "code",
   "execution_count": null,
   "id": "8bf7f9b0",
   "metadata": {},
   "outputs": [],
   "source": [
    "visited = np.zeros((3, 3), dtype=int)  # Example: 3x3 board, all nodes unvisited\n",
    "def runner(arr, i, j):\n",
    "    \"\"\" Check the value at position (i, j) in the Tic Tac Toe board\"\"\"\n",
    "    visited[i][j] = 1  # Mark the position as visited\n",
    "    if arr[i][j] == 'X':\n",
    "        return 1\n",
    "    elif arr[i][j] == 'O':\n",
    "        return -1\n",
    "    else:\n",
    "        return 0\n"
   ]
  },
  {
   "cell_type": "code",
   "execution_count": null,
   "id": "77cecf59",
   "metadata": {},
   "outputs": [],
   "source": [
    "import numpy as np\n",
    "\n",
    "# Example: 3x3 board, all nodes unvisited\n",
    "visited = np.zeros((3, 3), dtype=int)\n",
    "\n",
    "# Mark node (i, j) as visited\n",
    "i, j = 1, 2\n",
    "visited[i][j] = 1\n",
    "\n",
    "print(visited)"
   ]
  },
  {
   "cell_type": "markdown",
   "id": "c96a4f29",
   "metadata": {},
   "source": [
    "## Let's work on the GUI later"
   ]
  },
  {
   "cell_type": "code",
   "execution_count": 7,
   "id": "21d8c03b",
   "metadata": {},
   "outputs": [],
   "source": [
    "from matplotlib.widgets import Button\n",
    "\n",
    "import matplotlib.pyplot as plt\n",
    "\n",
    "class TicTacToeGUI:\n",
    "    def __init__(self):\n",
    "        self.board = np.full((3, 3), '', dtype=object)\n",
    "        self.current_player = 'X'\n",
    "        self.fig, self.ax = plt.subplots()\n",
    "        self.buttons = []\n",
    "        self.draw_board()\n",
    "        self.fig.canvas.mpl_connect('button_press_event', self.on_click)\n",
    "        plt.show()\n",
    "\n",
    "    def draw_board(self):\n",
    "        self.ax.clear()\n",
    "        self.ax.set_xticks([0.5, 1.5], minor=True)\n",
    "        self.ax.set_yticks([0.5, 1.5], minor=True)\n",
    "        self.ax.grid(which='minor', color='black', linewidth=2)\n",
    "        self.ax.set_xticks([])\n",
    "        self.ax.set_yticks([])\n",
    "        for i in range(3):\n",
    "            for j in range(3):\n",
    "                val = self.board[i, j]\n",
    "                if val:\n",
    "                    self.ax.text(j, 2-i, val, fontsize=40, ha='center', va='center')\n",
    "        self.ax.set_xlim(-0.5, 2.5)\n",
    "        self.ax.set_ylim(-0.5, 2.5)\n",
    "        self.ax.set_title(f\"Player {self.current_player}'s turn\")\n",
    "        self.fig.canvas.draw()\n",
    "\n",
    "    def on_click(self, event):\n",
    "        if event.inaxes != self.ax:\n",
    "            return\n",
    "        x, y = int(round(event.xdata)), int(round(event.ydata))\n",
    "        i, j = 2 - y, x\n",
    "        if 0 <= i < 3 and 0 <= j < 3 and self.board[i, j] == '':\n",
    "            self.board[i, j] = self.current_player\n",
    "            self.current_player = 'O' if self.current_player == 'X' else 'X'\n",
    "            self.draw_board()\n"
   ]
  },
  {
   "cell_type": "code",
   "execution_count": null,
   "id": "5bfd66e7",
   "metadata": {},
   "outputs": [],
   "source": []
  }
 ],
 "metadata": {
  "kernelspec": {
   "display_name": ".venv",
   "language": "python",
   "name": "python3"
  },
  "language_info": {
   "codemirror_mode": {
    "name": "ipython",
    "version": 3
   },
   "file_extension": ".py",
   "mimetype": "text/x-python",
   "name": "python",
   "nbconvert_exporter": "python",
   "pygments_lexer": "ipython3",
   "version": "3.13.5"
  }
 },
 "nbformat": 4,
 "nbformat_minor": 5
}
