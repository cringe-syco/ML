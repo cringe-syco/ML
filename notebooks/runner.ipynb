{
 "cells": [
  {
   "cell_type": "markdown",
   "id": "f0b1c363",
   "metadata": {},
   "source": [
    "RAINFALL PREDICTOR DEV"
   ]
  },
  {
   "cell_type": "code",
   "execution_count": null,
   "id": "381055de",
   "metadata": {},
   "outputs": [],
   "source": [
    "# data manipulators\n",
    "import pandas as pd\n",
    "import numpy as np\n",
    "\n",
    "# machine learning libraries\n",
    "from sklearn.model_selection import train_test_split, GridSearchCV, cross_val_score\n",
    "from sklearn.preprocessing import StandardScaler, LabelEncoder\n",
    "from sklearn.ensemble import RandomForestClassifier\n",
    "from sklearn.metrics import classification_report, confusion_matrix, accuracy_score\n",
    "from sklearn.utils import resample\n",
    "\n",
    "# deep learning libraries\n",
    "import seaborn as sns\n",
    "\n",
    "# visualization libraries\n",
    "import matplotlib.pyplot as plt\n",
    "\n",
    "# data serialization\n",
    "import pickle"
   ]
  },
  {
   "cell_type": "code",
   "execution_count": 20,
   "id": "5d24d322",
   "metadata": {},
   "outputs": [],
   "source": [
    "# data loading\n",
    "raw_df = pd.read_csv(r'D:\\Dsoft\\Projects\\ML\\data\\rainfall.csv')"
   ]
  },
  {
   "cell_type": "code",
   "execution_count": 24,
   "id": "ffa6d229",
   "metadata": {},
   "outputs": [
    {
     "name": "stdout",
     "output_type": "stream",
     "text": [
      "Shape: (366, 12)\n",
      "Info:\n",
      "<class 'pandas.core.frame.DataFrame'>\n",
      "RangeIndex: 366 entries, 0 to 365\n",
      "Data columns (total 12 columns):\n",
      " #   Column                  Non-Null Count  Dtype  \n",
      "---  ------                  --------------  -----  \n",
      " 0   day                     366 non-null    int64  \n",
      " 1   pressure                366 non-null    float64\n",
      " 2   maxtemp                 366 non-null    float64\n",
      " 3   temparature             366 non-null    float64\n",
      " 4   mintemp                 366 non-null    float64\n",
      " 5   dewpoint                366 non-null    float64\n",
      " 6   humidity                366 non-null    int64  \n",
      " 7   cloud                   366 non-null    int64  \n",
      " 8   rainfall                366 non-null    object \n",
      " 9   sunshine                366 non-null    float64\n",
      " 10           winddirection  365 non-null    float64\n",
      " 11  windspeed               365 non-null    float64\n",
      "dtypes: float64(8), int64(3), object(1)\n",
      "memory usage: 34.4+ KB\n",
      "None\n"
     ]
    }
   ],
   "source": [
    "# EDA\n",
    "print(\"Shape:\", raw_df.shape)\n",
    "print(\"Info:\")\n",
    "print(raw_df.info())\n"
   ]
  },
  {
   "cell_type": "code",
   "execution_count": 25,
   "id": "c09e2e75",
   "metadata": {},
   "outputs": [
    {
     "name": "stdout",
     "output_type": "stream",
     "text": [
      "Description:\n",
      "              day    pressure      maxtemp  temparature     mintemp  \\\n",
      "count  366.000000   366.000000  366.000000   366.000000  366.000000   \n",
      "mean    15.756831  1013.742623   26.191257    23.747268   21.894536   \n",
      "std      8.823592     6.414776    5.978343     5.632813    5.594153   \n",
      "min      1.000000   998.500000    7.100000     4.900000    3.100000   \n",
      "25%      8.000000  1008.500000   21.200000    18.825000   17.125000   \n",
      "50%     16.000000  1013.000000   27.750000    25.450000   23.700000   \n",
      "75%     23.000000  1018.100000   31.200000    28.600000   26.575000   \n",
      "max     31.000000  1034.600000   36.300000    32.400000   30.000000   \n",
      "\n",
      "         dewpoint   humidity       cloud     sunshine           winddirection  \\\n",
      "count  366.000000  366.000000  366.000000  366.000000              365.000000   \n",
      "mean    19.989071   80.177596   71.128415    4.419399              101.506849   \n",
      "std      5.997021   10.062470   21.798012    3.934398               81.723724   \n",
      "min     -0.400000   36.000000    0.000000    0.000000               10.000000   \n",
      "25%     16.125000   75.000000   58.000000    0.500000               40.000000   \n",
      "50%     21.950000   80.500000   80.000000    3.500000               70.000000   \n",
      "75%     25.000000   87.000000   88.000000    8.200000              190.000000   \n",
      "max     26.700000   98.000000  100.000000   12.100000              350.000000   \n",
      "\n",
      "        windspeed  \n",
      "count  365.000000  \n",
      "mean    21.536986  \n",
      "std     10.069712  \n",
      "min      4.400000  \n",
      "25%     13.700000  \n",
      "50%     20.500000  \n",
      "75%     27.900000  \n",
      "max     59.500000  \n",
      "Missing Values:\n",
      "day                       0\n",
      "pressure                  0\n",
      "maxtemp                   0\n",
      "temparature               0\n",
      "mintemp                   0\n",
      "dewpoint                  0\n",
      "humidity                  0\n",
      "cloud                     0\n",
      "rainfall                  0\n",
      "sunshine                  0\n",
      "         winddirection    1\n",
      "windspeed                 1\n",
      "dtype: int64\n"
     ]
    }
   ],
   "source": [
    "print(\"Description:\")\n",
    "print(raw_df.describe())\n",
    "print(\"Missing Values:\")\n",
    "print(raw_df.isnull().sum())"
   ]
  },
  {
   "cell_type": "code",
   "execution_count": null,
   "id": "27a7376f",
   "metadata": {},
   "outputs": [],
   "source": [
    "print(raw_df.info())"
   ]
  },
  {
   "cell_type": "code",
   "execution_count": null,
   "id": "cf11d7c3",
   "metadata": {},
   "outputs": [],
   "source": [
    "# data preprocessing\n",
    "\n",
    "# Standardize column names\n",
    "raw_df.columns = raw_df.columns.str.strip().str.lower().str.replace(' ', '_')"
   ]
  },
  {
   "cell_type": "code",
   "execution_count": 19,
   "id": "c1517551",
   "metadata": {},
   "outputs": [
    {
     "data": {
      "text/plain": [
       "pandas.core.strings.accessor.StringMethods"
      ]
     },
     "execution_count": 19,
     "metadata": {},
     "output_type": "execute_result"
    }
   ],
   "source": [
    "type(raw_df.columns.str)"
   ]
  },
  {
   "cell_type": "code",
   "execution_count": null,
   "id": "e5182386",
   "metadata": {},
   "outputs": [],
   "source": []
  }
 ],
 "metadata": {
  "kernelspec": {
   "display_name": ".rainflow",
   "language": "python",
   "name": "python3"
  },
  "language_info": {
   "codemirror_mode": {
    "name": "ipython",
    "version": 3
   },
   "file_extension": ".py",
   "mimetype": "text/x-python",
   "name": "python",
   "nbconvert_exporter": "python",
   "pygments_lexer": "ipython3",
   "version": "3.12.10"
  }
 },
 "nbformat": 4,
 "nbformat_minor": 5
}
